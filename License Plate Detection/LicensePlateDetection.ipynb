{
 "cells": [
  {
   "cell_type": "code",
   "execution_count": 4,
   "metadata": {
    "application/vnd.databricks.v1+cell": {
     "inputWidgets": {},
     "nuid": "41d1e420-204b-4948-8122-8049eb3dd86f",
     "showTitle": false,
     "title": ""
    }
   },
   "outputs": [
    {
     "name": "stderr",
     "output_type": "stream",
     "text": [
      "UsageError: Line magic function `%%sh` not found.\n"
     ]
    }
   ],
   "source": [
    "# Install Tesseract\n",
    "%sh apt-get -f -y install tesseract-ocr "
   ]
  },
  {
   "cell_type": "code",
   "execution_count": null,
   "metadata": {
    "application/vnd.databricks.v1+cell": {
     "inputWidgets": {},
     "nuid": "b949a0b7-0b7e-41c8-bc13-f08dd5aa4fb7",
     "showTitle": false,
     "title": ""
    }
   },
   "outputs": [],
   "source": [
    "# Install other dependency\n",
    "%pip install opencv-python\n",
    "%pip install pytesseract\n",
    "%pip install imutils"
   ]
  },
  {
   "cell_type": "code",
   "execution_count": null,
   "metadata": {
    "application/vnd.databricks.v1+cell": {
     "inputWidgets": {},
     "nuid": "46f9fae5-2062-4292-90a1-29a7526c725b",
     "showTitle": false,
     "title": ""
    }
   },
   "outputs": [],
   "source": [
    "# Import dependency\n",
    "import cv2\n",
    "import numpy as np\n",
    "import pytesseract as pt\n",
    "from PIL import Image\n",
    "import imutils\n",
    "import matplotlib.pyplot as plt\n",
    "import matplotlib.image as mpimg\n",
    "import re"
   ]
  },
  {
   "cell_type": "markdown",
   "metadata": {
    "application/vnd.databricks.v1+cell": {
     "inputWidgets": {},
     "nuid": "2405e788-0a7b-4b97-abbb-d6d672f94882",
     "showTitle": false,
     "title": ""
    }
   },
   "source": [
    "## Model ##"
   ]
  },
  {
   "cell_type": "code",
   "execution_count": null,
   "metadata": {
    "application/vnd.databricks.v1+cell": {
     "inputWidgets": {},
     "nuid": "b76b70cf-b9fd-4041-a8d4-f21606a55008",
     "showTitle": false,
     "title": ""
    }
   },
   "outputs": [],
   "source": [
    "# Plot image\n",
    "def plot_img(Title,img):\n",
    "    \n",
    "    # Define the size of the figure\n",
    "    fig=plt.figure(figsize=(10,5))\n",
    "    \n",
    "    # Title\n",
    "    plt.suptitle(Title,fontsize=20)\n",
    "    \n",
    "    # Show\n",
    "    if type(img)!= np.ndarray:\n",
    "        to_readable=mpimg.imread(img)\n",
    "        plt.imshow(to_readable,cmap='gray')\n",
    "    else:\n",
    "        plt.imshow(img,cmap='gray')\n",
    "        \n",
    "    plt.axis(\"off\")\n",
    "    display(plt.show())"
   ]
  },
  {
   "cell_type": "code",
   "execution_count": null,
   "metadata": {
    "application/vnd.databricks.v1+cell": {
     "inputWidgets": {},
     "nuid": "74b891b8-e6c8-44f7-8dc0-870fe42398c5",
     "showTitle": false,
     "title": ""
    }
   },
   "outputs": [],
   "source": [
    "# Haar Cascade Classifier for License plate detection\n",
    "def detect_number_plate(img_path): # -> Amended\n",
    "    orig=cv2.imread(img_path)\n",
    "   \n",
    "    # Import Cascade Classifier\n",
    "    lic_data=cv2.CascadeClassifier(cv2.data.haarcascades+'haarcascade_russian_plate_number.xml')\n",
    "   \n",
    "    # Detection\n",
    "    temp=orig.copy()\n",
    "    plates=lic_data.detectMultiScale(temp,1.2)\n",
    "    print(\"Number of plates detected: \"+str(len(plates)))\n",
    "   \n",
    "    area_ls=[]\n",
    "    for plate in plates:\n",
    "        (x,y,w,h)=plate\n",
    "        area=w*h\n",
    "        area_ls.append(area)\n",
    "   \n",
    "    for i in range(len(plates)):\n",
    "        if i == np.argmax(area_ls):\n",
    "            (x,y,w,h)=plates[i]\n",
    "            cv2.rectangle(temp,(x-8,y+25),(x+w-33,y+h-20),(0,255,0),3) \n",
    "    return temp"
   ]
  },
  {
   "cell_type": "code",
   "execution_count": null,
   "metadata": {
    "application/vnd.databricks.v1+cell": {
     "inputWidgets": {},
     "nuid": "c952a978-49b4-4af9-8bce-2a649f82df12",
     "showTitle": false,
     "title": ""
    }
   },
   "outputs": [],
   "source": [
    "# Morphological transformation\n",
    "def transform(detected_img): \n",
    "   \n",
    "    # 0. Resize\n",
    "    ratio=detected_img.shape[0]/500\n",
    "    img=imutils.resize(detected_img,height=500)\n",
    "    plot_img('Resized',img) # For debug\n",
    "   \n",
    "    # 1. Convert to grayscale\n",
    "    gray=cv2.cvtColor(img,cv2.COLOR_BGR2GRAY)\n",
    "    plot_img('gray',gray) # For debug\n",
    "\n",
    "    # 2. Gaussian blur\n",
    "    gb=cv2.GaussianBlur(gray,(5,5),0)\n",
    "    plot_img('GaussianBlur',gb) # For debug\n",
    "    \n",
    "    #3. Canny edges detection\n",
    "    edges=cv2.Canny(gb,75,200)\n",
    "    plot_img('Canny edges',edges) # For debug\n",
    "    \n",
    "    return edges"
   ]
  },
  {
   "cell_type": "code",
   "execution_count": null,
   "metadata": {
    "application/vnd.databricks.v1+cell": {
     "inputWidgets": {},
     "nuid": "7278f9bb-36c1-4b20-9567-83f4ba743ac9",
     "showTitle": false,
     "title": ""
    }
   },
   "outputs": [],
   "source": [
    "# Masking and Cropping the plate\n",
    "def masking_cropping(transformed):\n",
    "   \n",
    "    img=transformed.copy()\n",
    "    # Contouring\n",
    "    contours=cv2.findContours(img.copy(),cv2.RETR_TREE,cv2.CHAIN_APPROX_SIMPLE)\n",
    "    contours=imutils.grab_contours(contours)\n",
    "    contours=sorted(contours,key=cv2.contourArea, reverse=True)[:10]\n",
    "   \n",
    "    screenCnt=0\n",
    "    for c in contours:\n",
    "        # Approx the contour\n",
    "        peri=cv2.arcLength(c,True)\n",
    "        approx=cv2.approxPolyDP(c,0.018*peri,True)\n",
    "        print('len(approx)',len(approx))\n",
    "        # Assume the screen is found if our approximated contours has 4 points\n",
    "        if len(approx)==4: \n",
    "            screenCnt=approx\n",
    "            break\n",
    "\n",
    "    if screenCnt is None:\n",
    "        detected=0\n",
    "        print(\"No contour detected\")\n",
    "\n",
    "    else:\n",
    "        detected=1\n",
    "\n",
    "    if detected==1:\n",
    "        cv2.drawContours(img,[screenCnt],-1,(0,0,255),3)\n",
    "       \n",
    "    # Masking\n",
    "    mask=np.zeros(img.shape,np.uint8)\n",
    "    new_img=cv2.drawContours(mask,[screenCnt],0,255,-1,)\n",
    "    new_img=cv2.bitwise_and(img,img,mask=mask)\n",
    "    plot_img('masked',new_img) # For debug\n",
    "    \n",
    "    # Cropping\n",
    "    (x,y)=np.where(mask==255)\n",
    "    (topx,topy)=(np.min(x),np.min(y))\n",
    "    (bottomx,bottomy)=(np.max(x),np.max(y))\n",
    "    Cropped=new_img[topx:bottomx+1,topy:bottomy+1]\n",
    "    plot_img('cropped',Cropped) # For debug\n",
    "    return Cropped"
   ]
  },
  {
   "cell_type": "code",
   "execution_count": null,
   "metadata": {
    "application/vnd.databricks.v1+cell": {
     "inputWidgets": {},
     "nuid": "c8cda4da-19d0-4637-95b4-0edc2d51e5b7",
     "showTitle": false,
     "title": ""
    }
   },
   "outputs": [],
   "source": [
    "# Accuracy calculation\n",
    "def cal_accuracy(pred,actual):\n",
    "    # Initialise\n",
    "    accuracy=\"0 %\"\n",
    "    num_matches=0\n",
    "    \n",
    "    # all matches\n",
    "    if pred==actual:\n",
    "        accuracy='100 %'\n",
    "        \n",
    "    else:\n",
    "        # same length\n",
    "        #if len(pred)==len(actual):\n",
    "        for p,a in zip(pred,actual):\n",
    "            if p==a:\n",
    "                num_matches+=1\n",
    "        accuracy=str(round(num_matches/len(actual),2)*100)\n",
    "        accuracy+= \"%\"\n",
    "    return accuracy"
   ]
  },
  {
   "cell_type": "code",
   "execution_count": null,
   "metadata": {
    "application/vnd.databricks.v1+cell": {
     "inputWidgets": {},
     "nuid": "246a7deb-00c3-4d68-b538-b549b148d455",
     "showTitle": false,
     "title": ""
    }
   },
   "outputs": [],
   "source": [
    "# Combine all the aboe funcitons\n",
    "def master(plate,actual):\n",
    "    detected=detect_number_plate(plate)\n",
    "    plot_img('detected',detected)\n",
    "    \n",
    "    transformed=transform(detected)\n",
    "    plot_img('transformed',transformed)\n",
    "    \n",
    "    maskedcropped=masking_cropping(transformed)\n",
    "    plot_img('Cropped_plate',maskedcropped)\n",
    "    plate_text_maskedcropped=pt.image_to_string(maskedcropped).strip()\n",
    "    print('Detected text: ',plate_text_maskedcropped)\n",
    "    print('Accuracy: ',cal_accuracy(plate_text_maskedcropped,actual))"
   ]
  }
 ],
 "metadata": {
  "application/vnd.databricks.v1+notebook": {
   "dashboards": [],
   "language": "python",
   "notebookMetadata": {
    "pythonIndentUnit": 4
   },
   "notebookName": "LP testing",
   "notebookOrigID": 525484741810634,
   "widgets": {}
  },
  "kernelspec": {
   "display_name": "Python 3",
   "language": "python",
   "name": "python3"
  },
  "language_info": {
   "codemirror_mode": {
    "name": "ipython",
    "version": 3
   },
   "file_extension": ".py",
   "mimetype": "text/x-python",
   "name": "python",
   "nbconvert_exporter": "python",
   "pygments_lexer": "ipython3",
   "version": "3.8.8"
  }
 },
 "nbformat": 4,
 "nbformat_minor": 1
}
